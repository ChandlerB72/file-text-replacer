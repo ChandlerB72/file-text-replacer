{
 "cells": [
  {
   "cell_type": "code",
   "execution_count": null,
   "metadata": {},
   "outputs": [],
   "source": [
    "import os\n",
    "\n",
    "#TODO: Create parameters (dict) to edit at the top rather than editing code.\n",
    "\n",
    "# Iterates through every file in the directory\n",
    "for filename in os.listdir('./files'):\n",
    "    \n",
    "    # Checks for iPython Notebook and Mac created files in directory\n",
    "    # If found, these files are skipped\n",
    "    if filename == \".ipynb_checkpoints\" or filename == \".DS_Store\":\n",
    "        next\n",
    "    \n",
    "    else:\n",
    "        # Reads in the files lines then closes\n",
    "        file = open(\"./files/\" + filename, \"r\")\n",
    "        file_lines = file.readlines()\n",
    "        file.close()\n",
    "        \n",
    "        # Reads in the file and replaces text with another set of text\n",
    "        file = open(\"./files/\" + filename, \"w\")\n",
    "        for line in file_lines:\n",
    "            line = line.replace(\"REPLACE THIS\", \"WITH THIS\") # THE LINE TO EDIT\n",
    "            file.write(line)\n",
    "        file.close()\n",
    "        print(\"Completed: \" + filename)"
   ]
  }
 ],
 "metadata": {
  "kernelspec": {
   "display_name": "Python 3",
   "language": "python",
   "name": "python3"
  },
  "language_info": {
   "codemirror_mode": {
    "name": "ipython",
    "version": 3
   },
   "file_extension": ".py",
   "mimetype": "text/x-python",
   "name": "python",
   "nbconvert_exporter": "python",
   "pygments_lexer": "ipython3",
   "version": "3.7.3"
  }
 },
 "nbformat": 4,
 "nbformat_minor": 2
}
